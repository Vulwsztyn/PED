{
 "cells": [
  {
   "cell_type": "markdown",
   "metadata": {
    "id": "hZ0lb2iwV5zo"
   },
   "source": [
    "Download data"
   ]
  },
  {
   "cell_type": "code",
   "execution_count": 1,
   "metadata": {
    "colab": {
     "base_uri": "https://localhost:8080/"
    },
    "id": "5G07s3Bcdu9O",
    "outputId": "af5cc328-51ed-4f3d-bd02-e147f56c85a3"
   },
   "outputs": [],
   "source": [
    "# from google.colab import drive\n",
    "\n",
    "# drive.mount('/content/gdrive')"
   ]
  },
  {
   "cell_type": "code",
   "execution_count": 2,
   "metadata": {
    "colab": {
     "base_uri": "https://localhost:8080/"
    },
    "id": "2tiOZPHRhP6j",
    "outputId": "f5c30313-d491-44d5-ac45-9a1bfadb4409"
   },
   "outputs": [],
   "source": [
    "# !ls gdrive/MyDrive/PED"
   ]
  },
  {
   "cell_type": "code",
   "execution_count": null,
   "metadata": {
    "colab": {
     "base_uri": "https://localhost:8080/",
     "height": 1000
    },
    "id": "9luiz8r9q-__",
    "outputId": "9a1f47c9-717f-4e32-8315-820a74934021",
    "pycharm": {
     "is_executing": true
    }
   },
   "outputs": [],
   "source": [
    "import pandas\n",
    "from collections import Counter\n",
    "import matplotlib.pyplot as plt\n",
    "import numpy as np\n",
    "import nltk\n",
    "nltk.download('punkt')\n",
    "%matplotlib inline\n",
    "\n",
    "df = pandas.read_csv('../../reddit_wsb.csv')\n",
    "df[\"body\"] = df[\"body\"].fillna('')\n",
    "df[\"title\"] = df[\"title\"].fillna('')\n",
    "\n",
    "df"
   ]
  },
  {
   "cell_type": "code",
   "execution_count": null,
   "metadata": {
    "colab": {
     "base_uri": "https://localhost:8080/"
    },
    "id": "7a2zAJnlOZJ4",
    "outputId": "76b77d99-a57c-4649-d47b-aba32592c0d6",
    "pycharm": {
     "is_executing": true
    }
   },
   "outputs": [],
   "source": [
    "import pickle\n",
    "img_text = pickle.load(open(\"../../pickle/texts.pkl\", \"rb\"))\n",
    "print(img_text.keys())"
   ]
  },
  {
   "cell_type": "code",
   "execution_count": null,
   "metadata": {
    "id": "-rLEOU2lcRxF",
    "pycharm": {
     "is_executing": true
    }
   },
   "outputs": [],
   "source": [
    "seconds_in_day = 60 * 60 * 24.\n",
    "df['sin_time'] = np.sin(2*np.pi*(df.created % seconds_in_day)/seconds_in_day)\n",
    "df['cos_time'] = np.cos(2*np.pi*(df.created % seconds_in_day)/seconds_in_day)"
   ]
  },
  {
   "cell_type": "markdown",
   "metadata": {
    "id": "sJ_5WLLlWC2J"
   },
   "source": [
    "Data summary"
   ]
  },
  {
   "cell_type": "code",
   "execution_count": null,
   "metadata": {
    "colab": {
     "base_uri": "https://localhost:8080/",
     "height": 294
    },
    "id": "Ec8uP-M4oYX0",
    "outputId": "60981e1c-9899-4702-8ebb-e6fdafaec345",
    "pycharm": {
     "is_executing": true
    }
   },
   "outputs": [],
   "source": [
    "df.describe()"
   ]
  },
  {
   "cell_type": "code",
   "execution_count": null,
   "metadata": {
    "colab": {
     "base_uri": "https://localhost:8080/",
     "height": 280
    },
    "id": "5B4GgT9IcWKB",
    "outputId": "98de664f-cfe9-4cca-93d9-76ee46851d09",
    "pycharm": {
     "is_executing": true
    }
   },
   "outputs": [],
   "source": [
    "df.sample(5000).plot.scatter('sin_time','cos_time').set_aspect('equal')"
   ]
  },
  {
   "cell_type": "code",
   "execution_count": null,
   "metadata": {
    "colab": {
     "base_uri": "https://localhost:8080/"
    },
    "id": "Ld5FjS7bn0IX",
    "outputId": "c825ef1e-8e5e-446f-c3c8-9063aeceaf87",
    "pycharm": {
     "is_executing": true
    }
   },
   "outputs": [],
   "source": [
    "df.columns"
   ]
  },
  {
   "cell_type": "code",
   "execution_count": null,
   "metadata": {
    "colab": {
     "base_uri": "https://localhost:8080/",
     "height": 279
    },
    "id": "l8YhFJS5lB-q",
    "outputId": "0db6e249-2d6b-403d-9908-4ed1eb306e11",
    "pycharm": {
     "is_executing": true
    }
   },
   "outputs": [],
   "source": [
    "plt.hist(df['score'], bins=30)\n",
    "plt.ylabel('Count')\n",
    "plt.yscale('log')\n",
    "plt.xlabel('Data');"
   ]
  },
  {
   "cell_type": "code",
   "execution_count": null,
   "metadata": {
    "colab": {
     "base_uri": "https://localhost:8080/",
     "height": 279
    },
    "id": "jU_uAYHOIq0s",
    "outputId": "08b30a7d-d44b-4248-c02f-332d07bc2ba4",
    "pycharm": {
     "is_executing": true
    }
   },
   "outputs": [],
   "source": [
    "plt.hist(df['created'], bins=30)\n",
    "plt.ylabel('Count')\n",
    "plt.yscale('log')\n",
    "plt.xlabel('Data')"
   ]
  },
  {
   "cell_type": "markdown",
   "metadata": {
    "id": "T92Tu2llWOmS"
   },
   "source": [
    "Text processing"
   ]
  },
  {
   "cell_type": "code",
   "execution_count": null,
   "metadata": {
    "colab": {
     "base_uri": "https://localhost:8080/"
    },
    "id": "Kfyec1gPdtuV",
    "outputId": "91ae79db-d877-450a-e8be-359b3650f662",
    "pycharm": {
     "is_executing": true
    }
   },
   "outputs": [],
   "source": [
    "from collections import Counter\n",
    "import string\n",
    "import emoji\n",
    "import re\n",
    "import spacy\n",
    "from spacy.lang.en.examples import sentences \n",
    "\n",
    "nlp = spacy.load(\"en_core_web_sm\")"
   ]
  },
  {
   "cell_type": "markdown",
   "metadata": {
    "id": "tDwEFOIDRQle"
   },
   "source": [
    "Most common words"
   ]
  },
  {
   "cell_type": "code",
   "execution_count": null,
   "metadata": {
    "id": "JHeajpiNTEcZ",
    "pycharm": {
     "is_executing": true
    }
   },
   "outputs": [],
   "source": [
    "try:\n",
    "  df['body_lemmatized'] = pandas.read_pickle('../../pickle/body_lemmatized.pkl')\n",
    "except:\n",
    "  pass\n",
    "try:\n",
    "  df['title_lemmatized'] = pandas.read_pickle('../../pickle/title_lemmatized.pkl')\n",
    "except:\n",
    "  pass"
   ]
  },
  {
   "cell_type": "code",
   "execution_count": null,
   "metadata": {
    "colab": {
     "base_uri": "https://localhost:8080/"
    },
    "id": "_bSTvVkJgrYt",
    "outputId": "92feff34-99d3-4eef-f93b-acbbe478b6e7",
    "pycharm": {
     "is_executing": true
    }
   },
   "outputs": [],
   "source": [
    "# x = None\n",
    "# try: \n",
    "#   x = pandas.read_pickle('gdrive/MyDrive/PED/title_lemmatized2.pkl')\n",
    "# except:\n",
    "#   pass\n",
    "'title_lemmatized' in df"
   ]
  },
  {
   "cell_type": "code",
   "execution_count": null,
   "metadata": {
    "colab": {
     "base_uri": "https://localhost:8080/"
    },
    "id": "2CBf1-1-TMQm",
    "outputId": "c35411d6-4aaf-475e-d976-ebf07caa9adf",
    "pycharm": {
     "is_executing": true
    }
   },
   "outputs": [],
   "source": [
    "df['body_lemmatized'].head(5)"
   ]
  },
  {
   "cell_type": "code",
   "execution_count": null,
   "metadata": {
    "id": "Y0sxu6GlOcrh",
    "pycharm": {
     "is_executing": true
    }
   },
   "outputs": [],
   "source": [
    "if 'body_lemmatized' not in df: df['body_lemmatized'] = df['body'].apply(lambda x: [i.lemma_ for i in nlp(x.lower()) if (not i.is_stop) and len(i.lemma_) > 0])\n",
    "if 'title_lemmatized' not in df: df['title_lemmatized'] = df['title'].apply(lambda x: [i.lemma_ for i in nlp(x.lower()) if (not i.is_stop) and len(i.lemma_) > 0])\n",
    "# df['title_lemmatized'].to_pickle(\"gdrive/MyDrive/PED/title_lemmatized.pkl\")"
   ]
  },
  {
   "cell_type": "code",
   "execution_count": null,
   "metadata": {
    "id": "1mA7Sp3Fd_Iy",
    "pycharm": {
     "is_executing": true
    }
   },
   "outputs": [],
   "source": []
  },
  {
   "cell_type": "code",
   "execution_count": null,
   "metadata": {
    "colab": {
     "base_uri": "https://localhost:8080/",
     "height": 139
    },
    "id": "fnk_PVH1O9H4",
    "outputId": "0eeae003-9f4b-444b-e34b-d1adde2ec30f",
    "pycharm": {
     "is_executing": true
    }
   },
   "outputs": [],
   "source": [
    "' '.join([' '.join(x) for x in img_text.values()])"
   ]
  },
  {
   "cell_type": "code",
   "execution_count": null,
   "metadata": {
    "colab": {
     "base_uri": "https://localhost:8080/"
    },
    "id": "lfSydqaGRNhG",
    "outputId": "2caeb9d4-8e6a-4152-9063-4659304c8482",
    "pycharm": {
     "is_executing": true
    }
   },
   "outputs": [],
   "source": [
    "len(img_text.keys())"
   ]
  },
  {
   "cell_type": "code",
   "execution_count": null,
   "metadata": {
    "id": "BPSxYtnLbgn8",
    "pycharm": {
     "is_executing": true
    }
   },
   "outputs": [],
   "source": []
  },
  {
   "cell_type": "code",
   "execution_count": null,
   "metadata": {
    "colab": {
     "base_uri": "https://localhost:8080/"
    },
    "id": "pfINWDtIRSbG",
    "outputId": "8fa734ff-7e3a-440f-beb1-c35e3b669d8f",
    "pycharm": {
     "is_executing": true
    }
   },
   "outputs": [],
   "source": [
    "text_lens_no_0 = [len(x) for x in img_text.values() if len(x) > 0]\n",
    "print('count', len(img_text))\n",
    "print('no text in', len([len(x) for x in img_text.values() if len(x) == 0]), 'images')\n",
    "print('min', np.min([len(x) for x in img_text.values()]))\n",
    "print('max', np.max([len(x) for x in img_text.values()]))\n",
    "\n",
    "print('q1', np.quantile(text_lens_no_0, 0.25))\n",
    "print('median', np.median(text_lens_no_0))\n",
    "print('q3', np.quantile(text_lens_no_0, 0.75))\n"
   ]
  },
  {
   "cell_type": "code",
   "execution_count": null,
   "metadata": {
    "colab": {
     "base_uri": "https://localhost:8080/"
    },
    "id": "M03ZrXo3SHqZ",
    "outputId": "c6c653d5-18f5-4b59-8d73-4a8829346de6",
    "pycharm": {
     "is_executing": true
    }
   },
   "outputs": [],
   "source": [
    "words_separate = [' '.join(x).split(' ') for x in img_text.values()]\n",
    "\n",
    "text_lens_no_0 = [len(x) for x in img_text.values() if len(x) > 0]\n",
    "print('min', np.min([len(x) for x in words_separate]))\n",
    "print('max', np.max([len(x) for x in words_separate]))\n",
    "print('q1', np.quantile([len(x) for x in words_separate], 0.25))\n",
    "print('median', np.median([len(x) for x in words_separate]))\n",
    "print('q3', np.quantile([len(x) for x in words_separate], 0.75))\n"
   ]
  },
  {
   "cell_type": "code",
   "execution_count": null,
   "metadata": {
    "colab": {
     "base_uri": "https://localhost:8080/"
    },
    "id": "iBru0HTWPM1q",
    "outputId": "01a33f0c-9a89-4e33-9816-6f8ab6074026",
    "pycharm": {
     "is_executing": true
    }
   },
   "outputs": [],
   "source": [
    "from nltk import word_tokenize\n",
    "from nltk.corpus import stopwords\n",
    "nltk.download('stopwords')\n",
    "img_most_common = Counter(word_tokenize(' '.join([' '.join(x) for x in img_text.values()])))\n",
    "for key, cnts in list(img_most_common.items()):\n",
    "  if not key in emoji.UNICODE_EMOJI and (key in stopwords.words('english') or not re.match(r'\\w+',key)):\n",
    "    del img_most_common[key]\n",
    "img_most_common = img_most_common.most_common(100)\n",
    "img_most_common\n"
   ]
  },
  {
   "cell_type": "code",
   "execution_count": null,
   "metadata": {
    "id": "YjgpSKruhRxy",
    "pycharm": {
     "is_executing": true
    }
   },
   "outputs": [],
   "source": [
    "import pickle"
   ]
  },
  {
   "cell_type": "markdown",
   "metadata": {
    "id": "GN-6WkERh2Z1"
   },
   "source": []
  },
  {
   "cell_type": "code",
   "execution_count": null,
   "metadata": {
    "id": "E3Ua_Dd5cTp5",
    "pycharm": {
     "is_executing": true
    }
   },
   "outputs": [],
   "source": [
    "body_most_common = None\n",
    "try:\n",
    "  body_most_common = pickle.load(open('../../pickle/body_most_common.pkl', \"rb\"))\n",
    "except:\n",
    "  pass\n",
    "\n",
    "if body_most_common is None: body_most_common = Counter(df[\"body_lemmatized\"].sum())\n",
    "\n"
   ]
  },
  {
   "cell_type": "code",
   "execution_count": null,
   "metadata": {
    "colab": {
     "base_uri": "https://localhost:8080/"
    },
    "id": "vxO--CqMggYx",
    "outputId": "6a91f9b4-9f22-4513-eccf-0915f95d45f1",
    "pycharm": {
     "is_executing": true
    }
   },
   "outputs": [],
   "source": [
    "def prune(most_common_words):\n",
    "  for key, cnts in list(most_common_words.items()):\n",
    "    if not key in emoji.UNICODE_EMOJI and (not re.match(r'\\w+',key) or len(key) < 2):\n",
    "      del most_common_words[key]\n",
    "  for i in ['don\\\\u2019', 'i\\\\u2019', 'it\\\\u2019s']:\n",
    "    del most_common_words[i]\n",
    "# body_most_common = body_most_common.most_common(100)\n",
    "prune(body_most_common)\n",
    "body_most_common.most_common(100)"
   ]
  },
  {
   "cell_type": "code",
   "execution_count": null,
   "metadata": {
    "colab": {
     "base_uri": "https://localhost:8080/"
    },
    "id": "tyxs5FU2KSIM",
    "outputId": "15703711-f9b6-4e84-8249-063e02ca6b58",
    "pycharm": {
     "is_executing": true
    }
   },
   "outputs": [],
   "source": [
    "title_most_common = None\n",
    "try:\n",
    "  title_most_common = pickle.load(open('../../pickle/title_most_common.pkl', \"rb\"))\n",
    "except:\n",
    "  pass\n",
    "\n",
    "if title_most_common is None: title_most_common = Counter(df[\"title_lemmatized\"].sum())\n",
    "\n",
    "# title_most_common = Counter(df[\"title_lemmatized\"].sum())\n",
    "# for key, cnts in list(title_most_common.items()):\n",
    "#   if not key in emoji.UNICODE_EMOJI and (key in stopwords.words('english') or not re.match(r'\\w+',key)):\n",
    "#     del title_most_common[key]\n",
    "# title_most_common = title_most_common.most_common(100)\n",
    "prune(title_most_common)\n",
    "title_most_common.most_common(100)"
   ]
  },
  {
   "cell_type": "markdown",
   "metadata": {
    "id": "2rKiMEu9B7L8"
   },
   "source": [
    "Parameters creation"
   ]
  },
  {
   "cell_type": "code",
   "execution_count": null,
   "metadata": {
    "id": "LAeSNruBlpUh",
    "pycharm": {
     "is_executing": true
    }
   },
   "outputs": [],
   "source": []
  },
  {
   "cell_type": "code",
   "execution_count": null,
   "metadata": {
    "id": "5nnvq6HtLwEU",
    "pycharm": {
     "is_executing": true
    }
   },
   "outputs": [],
   "source": [
    "additional_keywords = ['gme', 'hold', 'buy', 'retard', 'wife', 'hedgies', '🚀', 'moon','🧻','🙏', '💎', '🤲','✋','🙌🏼', '🦍', '👋🏼']\n",
    "count = lambda l1,l2: sum([1 for x in l1 if x in l2])\n",
    "text_attributes = {}\n",
    "for key in additional_keywords: \n",
    "  text_attributes['title_' + key] =  df[\"title_lemmatized\"].apply(lambda x: x.count(key))\n",
    "  text_attributes['body_' + key] = df[\"body_lemmatized\"].apply(lambda x: x.count(key))\n",
    "\n",
    "\n"
   ]
  },
  {
   "cell_type": "code",
   "execution_count": null,
   "metadata": {
    "colab": {
     "base_uri": "https://localhost:8080/"
    },
    "id": "hlru5v3JoQRE",
    "outputId": "0b626fdd-d703-4b11-9a9f-eaea76185b3d",
    "pycharm": {
     "is_executing": true
    }
   },
   "outputs": [],
   "source": [
    " df[\"title_lemmatized\"].head(5).apply(lambda x: x.count('retard'))"
   ]
  },
  {
   "cell_type": "code",
   "execution_count": null,
   "metadata": {
    "id": "zZthpQBdZ6rk",
    "pycharm": {
     "is_executing": true
    }
   },
   "outputs": [],
   "source": [
    "for key, cnts in body_most_common.most_common(100): \n",
    "  text_attributes['body_' + key.lower()] = df[\"body_lemmatized\"].apply(lambda x: x.count(key))\n",
    "\n",
    "\n",
    "for key, cnts in title_most_common.most_common(100): \n",
    "  text_attributes['title_' + key.lower()] = df[\"title_lemmatized\"].apply(lambda x: x.count(key))\n"
   ]
  },
  {
   "cell_type": "code",
   "execution_count": null,
   "metadata": {
    "id": "wn4i-jKKZ7hf",
    "pycharm": {
     "is_executing": true
    }
   },
   "outputs": [],
   "source": [
    "\n",
    "text_attributes['body_punctuation'] = df['body'].apply(lambda s: count(s, string.punctuation))\n",
    "text_attributes['title_punctuation'] = df['title'].apply(lambda s: count(s, string.punctuation))\n",
    "\n",
    "text_attributes['body_cap_ratio'] = df['body'].str.count(r'[A-Z]')/df['body'].str.count(r'[a-zA-Z]')\n",
    "text_attributes['title_cap_ratio'] = df['title'].str.count(r'[A-Z]')/df['title'].str.count(r'[a-zA-Z]')\n",
    "\n",
    "text_attributes['time_of_day'] = pandas.to_datetime(df['timestamp']).dt.hour + pandas.to_datetime(df['timestamp']).dt.minute/60\n",
    "\n",
    "text_attributes['title_length'] = df['title'].apply(len)\n",
    "text_attributes['title_non_alphanumeric_ratio'] = df['title'].str.count(r'[^A-Za-z0-9]')/df['title'].apply(len)\n"
   ]
  },
  {
   "cell_type": "code",
   "execution_count": null,
   "metadata": {
    "id": "gQYi9VqHVYjN",
    "pycharm": {
     "is_executing": true
    }
   },
   "outputs": [],
   "source": [
    "def regex_count_in_url_and_body(regex):\n",
    "    return df['body'].apply(lambda s: len(re.findall(regex, s))) + df['url'].apply(lambda s: len(re.findall(regex, s)))"
   ]
  },
  {
   "cell_type": "code",
   "execution_count": null,
   "metadata": {
    "colab": {
     "base_uri": "https://localhost:8080/",
     "height": 938
    },
    "id": "f6yJVulvd2II",
    "outputId": "efe019f7-69d3-4019-9d9c-3ae162d4fe0a",
    "pycharm": {
     "is_executing": true
    }
   },
   "outputs": [],
   "source": [
    "text_attributes['link'] = regex_count_in_url_and_body(r'(https?://[^\\s]+)')\n",
    "text_attributes['reddit_link'] = regex_count_in_url_and_body(r'(https?:\\/\\/w?w?w?\\.?redd\\.?it[^\\s]+)')\n",
    "text_attributes['yt_link'] = regex_count_in_url_and_body(r'(https?:\\/\\/w?w?w?\\.?youtu\\.?be[^\\s]+)')\n",
    "text_attributes['tweet_link'] = regex_count_in_url_and_body(r'(https?:\\/\\/w?w?w?\\.?twitter[^\\s]+)')\n",
    "text_attributes['facebook_link'] = regex_count_in_url_and_body(r'(https?:\\/\\/w?w?w?\\.?facebook[^\\s]+)')\n",
    "\n",
    "text_attributes['gif'] = regex_count_in_url_and_body(r'(https?:\\/\\/w?w?w?\\.?giphy[^\\s]+)') + regex_count_in_url_and_body(r'(https?:\\/\\/w?w?w?\\.?gifyu[^\\s]+)') + regex_count_in_url_and_body(r'(https?:\\/\\/w?w?w?\\.?gfycat[^\\s]+)') + df['url'].apply(lambda s: len(re.findall(r'(\\.gif)', s)))\n",
    "\n",
    "text_attributes = pandas.DataFrame(text_attributes)\n",
    "text_attributes\n",
    "df[text_attributes['gif']>=1]"
   ]
  },
  {
   "cell_type": "code",
   "execution_count": null,
   "metadata": {
    "colab": {
     "base_uri": "https://localhost:8080/",
     "height": 361
    },
    "id": "TcWnKUqrnBgx",
    "outputId": "7bb682e8-84cd-44bd-deed-26102fefc43c",
    "pycharm": {
     "is_executing": true
    }
   },
   "outputs": [],
   "source": [
    "text_attributes.describe()"
   ]
  },
  {
   "cell_type": "code",
   "execution_count": null,
   "metadata": {
    "colab": {
     "base_uri": "https://localhost:8080/",
     "height": 294
    },
    "id": "QEguR5PBt4zl",
    "outputId": "5280738f-d021-499e-f8ba-8d7dcebb3ea0",
    "pycharm": {
     "is_executing": true
    }
   },
   "outputs": [],
   "source": [
    "df.describe()"
   ]
  },
  {
   "cell_type": "code",
   "execution_count": null,
   "metadata": {
    "colab": {
     "base_uri": "https://localhost:8080/",
     "height": 361
    },
    "id": "qn6BI5Ma6Pgy",
    "outputId": "c2225491-4481-4617-fc3e-765c8c38bcfa",
    "pycharm": {
     "is_executing": true
    }
   },
   "outputs": [],
   "source": [
    "for i in ['score', 'sin_time', 'cos_time']:\n",
    "  text_attributes[i] = df[i]  \n",
    "text_attributes['day'] = pandas.to_datetime(df['timestamp']).dt.day\n",
    "text_attributes['month'] = pandas.to_datetime(df['timestamp']).dt.month\n",
    "text_attributes.describe()"
   ]
  },
  {
   "cell_type": "code",
   "execution_count": null,
   "metadata": {
    "colab": {
     "base_uri": "https://localhost:8080/"
    },
    "id": "b5sKqkw46oge",
    "outputId": "6936f024-01d9-4d8d-9f41-c313ea419e5e",
    "pycharm": {
     "is_executing": true
    }
   },
   "outputs": [],
   "source": [
    "print(pandas.to_datetime(df['timestamp'].head(10)))\n",
    "print(pandas.to_datetime(df['timestamp'].head(10)).dt.day)\n",
    "print(pandas.to_datetime(df['timestamp'].head(10)).dt.month)"
   ]
  },
  {
   "cell_type": "code",
   "execution_count": null,
   "metadata": {
    "colab": {
     "base_uri": "https://localhost:8080/"
    },
    "id": "uw0j4_77pu6u",
    "outputId": "c3230ab1-2f09-4d3f-f1e5-ad291423bd2d",
    "pycharm": {
     "is_executing": true
    }
   },
   "outputs": [],
   "source": [
    "print(re.findall('http','ahttpjkshdoifjdshttp'))\n",
    "print()\n",
    "print(re.findall(r\"https?://(?:(?:[^\\s()])|(?:\\(\\S*\\)]*\\)))+\", 'https://www.benzinga.com/government/21/01/19337399/something-systemically-wrong-with-gamestop-options-trading-says-massachusetts-securities-regulator(dupa=dupa()))'))"
   ]
  },
  {
   "cell_type": "code",
   "execution_count": null,
   "metadata": {
    "colab": {
     "base_uri": "https://localhost:8080/"
    },
    "id": "k7C-sr2m9rRd",
    "outputId": "21f7d86f-71b6-4499-c4d3-e8c216d79409",
    "pycharm": {
     "is_executing": true
    }
   },
   "outputs": [],
   "source": [
    "text_attributes['body_🙏'].describe()\n",
    "text_attributes['score'].min() == text_attributes['score'].max() "
   ]
  },
  {
   "cell_type": "code",
   "execution_count": null,
   "metadata": {
    "colab": {
     "base_uri": "https://localhost:8080/"
    },
    "id": "Eh5yFxwBnelh",
    "outputId": "39bd404b-66ca-4af4-a847-b2761167cfd5",
    "pycharm": {
     "is_executing": true
    }
   },
   "outputs": [],
   "source": [
    "to_be_removed = []\n",
    "for column in text_attributes:\n",
    "  if text_attributes[column].min() == text_attributes[column].max():\n",
    "    to_be_removed.append(column)\n",
    "len(to_be_removed) # 11"
   ]
  },
  {
   "cell_type": "code",
   "execution_count": null,
   "metadata": {
    "id": "6Osm9qpv-aD7",
    "pycharm": {
     "is_executing": true
    }
   },
   "outputs": [],
   "source": [
    "for i in to_be_removed:\n",
    "  del text_attributes[i]"
   ]
  },
  {
   "cell_type": "code",
   "execution_count": null,
   "metadata": {
    "colab": {
     "base_uri": "https://localhost:8080/",
     "height": 283
    },
    "id": "uF8bg4fO-MA_",
    "outputId": "8bef52f6-c5da-404d-eb10-ec92bd87c5c7",
    "pycharm": {
     "is_executing": true
    }
   },
   "outputs": [],
   "source": [
    "text_attributes['day'].hist()\n"
   ]
  },
  {
   "cell_type": "code",
   "execution_count": null,
   "metadata": {
    "id": "6KrdPJzVGEx_",
    "pycharm": {
     "is_executing": true
    }
   },
   "outputs": [],
   "source": [
    "text_attributes['day'] = text_attributes['day'].apply(lambda x: x+(31-19) if x < 19 else x-19)"
   ]
  },
  {
   "cell_type": "code",
   "execution_count": null,
   "metadata": {
    "id": "9cp60u1gGVme",
    "pycharm": {
     "is_executing": true
    }
   },
   "outputs": [],
   "source": [
    "del text_attributes['month']"
   ]
  },
  {
   "cell_type": "code",
   "execution_count": null,
   "metadata": {
    "id": "BEFl3A7fJT3c",
    "pycharm": {
     "is_executing": true
    }
   },
   "outputs": [],
   "source": [
    "del text_attributes['time_of_day']"
   ]
  },
  {
   "cell_type": "code",
   "execution_count": null,
   "metadata": {
    "id": "2dQ3kmwA76Kf",
    "pycharm": {
     "is_executing": true
    }
   },
   "outputs": [],
   "source": [
    "# for column in text_attributes:\n",
    "#     print(column, text_attributes[column].corr(df['score']))"
   ]
  },
  {
   "cell_type": "markdown",
   "metadata": {
    "id": "C__pjT7r_X6U"
   },
   "source": [
    "Korelacja"
   ]
  },
  {
   "cell_type": "code",
   "execution_count": null,
   "metadata": {
    "id": "DpIMcN9X_SO3",
    "pycharm": {
     "is_executing": true
    }
   },
   "outputs": [],
   "source": [
    "corrMatrix = text_attributes.corr(method='spearman')"
   ]
  },
  {
   "cell_type": "code",
   "execution_count": null,
   "metadata": {
    "id": "Qw_O1B98IAJH",
    "pycharm": {
     "is_executing": true
    }
   },
   "outputs": [],
   "source": [
    "corrMatrixSave = corrMatrix.copy()"
   ]
  },
  {
   "cell_type": "code",
   "execution_count": null,
   "metadata": {
    "colab": {
     "base_uri": "https://localhost:8080/"
    },
    "id": "E0gt2mskEk8x",
    "outputId": "509f1e8f-783d-4c31-ca2e-63547cc6580b",
    "pycharm": {
     "is_executing": true
    }
   },
   "outputs": [],
   "source": [
    "x = corrMatrix['score'][corrMatrix['score']<1]\n",
    "print(x.min(), x.keys()[x.argmin()])\n",
    "print(x.max(), x.keys()[x.argmax()])\n",
    "# with pandas.option_context('display.max_rows', None, 'display.max_columns', None):  # more options can be specified also\n",
    "#   print(x.sort_values())\n"
   ]
  },
  {
   "cell_type": "code",
   "execution_count": null,
   "metadata": {
    "colab": {
     "base_uri": "https://localhost:8080/"
    },
    "id": "MJRfuBJ7_XiN",
    "outputId": "55dcc53f-7df8-49a3-b820-7cc0e54703e5",
    "pycharm": {
     "is_executing": true
    }
   },
   "outputs": [],
   "source": [
    "treshold = .5\n",
    "for i,column in enumerate(corrMatrix):\n",
    "  x = corrMatrix[column][i+1:]\n",
    "  if x.min() < -treshold:\n",
    "    print(x.min(), column, x.keys()[x.argmin()])\n",
    "  if x.max() > treshold:\n",
    "    print(x.max(), column, x.keys()[x.argmax()])"
   ]
  },
  {
   "cell_type": "code",
   "execution_count": null,
   "metadata": {
    "id": "042crB-MJ-A2",
    "pycharm": {
     "is_executing": true
    }
   },
   "outputs": [],
   "source": [
    "treshold = .5\n",
    "correlations = []\n",
    "for i,column in enumerate(corrMatrix):\n",
    "  x = corrMatrix[column][i+1:]\n",
    "  for row,v in x.items():\n",
    "    correlations.append([v,column,row])\n",
    "correlations.sort(key = lambda x: -abs(x[0]))"
   ]
  },
  {
   "cell_type": "code",
   "execution_count": null,
   "metadata": {
    "colab": {
     "base_uri": "https://localhost:8080/"
    },
    "id": "XA4zk2e9KiKZ",
    "outputId": "1cfeca2a-2d27-496a-c1bb-ae1de53ca27d",
    "pycharm": {
     "is_executing": true
    }
   },
   "outputs": [],
   "source": [
    "len(correlations)"
   ]
  },
  {
   "cell_type": "code",
   "execution_count": null,
   "metadata": {
    "id": "r0pgfW4dKbVy",
    "pycharm": {
     "is_executing": true
    }
   },
   "outputs": [],
   "source": [
    "correlations.sort(key = lambda x: -abs(x[0]))"
   ]
  },
  {
   "cell_type": "code",
   "execution_count": null,
   "metadata": {
    "colab": {
     "base_uri": "https://localhost:8080/"
    },
    "id": "OYgQ75x2PNqj",
    "outputId": "a21e814e-39dd-4232-ac9e-4713c878ad5e",
    "pycharm": {
     "is_executing": true
    }
   },
   "outputs": [],
   "source": [
    "len(text_attributes.columns)"
   ]
  },
  {
   "cell_type": "code",
   "execution_count": null,
   "metadata": {
    "id": "J6uClptFPmiu",
    "pycharm": {
     "is_executing": true
    }
   },
   "outputs": [],
   "source": [
    "text_attributes2 = text_attributes.copy()"
   ]
  },
  {
   "cell_type": "code",
   "execution_count": null,
   "metadata": {
    "id": "6vbCzWC8Ptx3",
    "pycharm": {
     "is_executing": true
    }
   },
   "outputs": [],
   "source": [
    "text_attributes = text_attributes2.copy()"
   ]
  },
  {
   "cell_type": "code",
   "execution_count": null,
   "metadata": {
    "id": "uVFtR6MuPM-K",
    "pycharm": {
     "is_executing": true
    }
   },
   "outputs": [],
   "source": [
    "score_corr = corrMatrix['score'][corrMatrix['score']<1]\n",
    "for corr in correlations:\n",
    "  if len(text_attributes.columns) <= 30: break\n",
    "  c,a1,a2 = corr\n",
    "  if 'score' in [a1,a2]: continue\n",
    "  if a1 in text_attributes and a2 in text_attributes:\n",
    "    to_be_removed = a1 if score_corr[a1] < score_corr[a2] else a2\n",
    "    del text_attributes[to_be_removed]"
   ]
  },
  {
   "cell_type": "code",
   "execution_count": null,
   "metadata": {
    "colab": {
     "base_uri": "https://localhost:8080/",
     "height": 453
    },
    "id": "uQ1PtnkbQS4o",
    "outputId": "ebef4069-d75b-4a07-bf73-c4f01e795b30",
    "pycharm": {
     "is_executing": true
    }
   },
   "outputs": [],
   "source": [
    "text_attributes"
   ]
  },
  {
   "cell_type": "code",
   "execution_count": null,
   "metadata": {
    "colab": {
     "base_uri": "https://localhost:8080/"
    },
    "id": "xVFP_xlyQlky",
    "outputId": "d17a83e5-ec01-4b32-e026-2ca2fd3776c7",
    "pycharm": {
     "is_executing": true
    }
   },
   "outputs": [],
   "source": [
    "text_attributes.columns"
   ]
  },
  {
   "cell_type": "code",
   "execution_count": null,
   "metadata": {
    "colab": {
     "base_uri": "https://localhost:8080/"
    },
    "id": "mYsRkDL0dxhF",
    "outputId": "da3c5210-9db4-4b75-8f2d-bdd3fd751e6a",
    "pycharm": {
     "is_executing": true
    }
   },
   "outputs": [],
   "source": [
    "score_corr_text = corrMatrix['score']\n",
    "lista1=[]\n",
    "for i in text_attributes.columns:\n",
    "  lista1.append([score_corr_text[i], i])\n",
    "  # print('{:10.5f}'.format(score_corr[i]), class_dict[int(i)])\n",
    "lista1.sort(key=lambda x: -abs(x[0]))\n",
    "for i in lista1:\n",
    "  print('{:10.5f}'.format(i[0]), i[1])"
   ]
  },
  {
   "cell_type": "code",
   "execution_count": null,
   "metadata": {
    "colab": {
     "base_uri": "https://localhost:8080/",
     "height": 453
    },
    "id": "MDDjhVISDA9R",
    "outputId": "d3fc3e5b-34a4-4a8a-de90-ed7a98b602df",
    "pycharm": {
     "is_executing": true
    }
   },
   "outputs": [],
   "source": [
    "corrMatrix"
   ]
  },
  {
   "cell_type": "code",
   "execution_count": null,
   "metadata": {
    "id": "lRjLJrncDAxr",
    "pycharm": {
     "is_executing": true
    }
   },
   "outputs": [],
   "source": []
  },
  {
   "cell_type": "markdown",
   "metadata": {
    "id": "60_9JtC1EdyY"
   },
   "source": [
    "Obróbka atrybutów ze zdjęć"
   ]
  },
  {
   "cell_type": "code",
   "execution_count": null,
   "metadata": {
    "id": "5SrCrMUUg3XT",
    "pycharm": {
     "is_executing": true
    }
   },
   "outputs": [],
   "source": [
    "img_class = pickle.load(open(\"../../pickle/image_classes.pkl\", \"rb\"))\n",
    "img_clusters = pickle.load(open(\"../../pickle/image_color_clusters.pkl\", \"rb\"))\n",
    "img_means = pickle.load(open(\"../../pickle/image_hsv_means.pkl\", \"rb\"))\n",
    "\n",
    "pic_data = {}\n",
    "pic_data['id'] = []\n",
    "pic_data['text'] = []\n",
    "pic_data['probabilities'] = []\n",
    "pic_data['clusters'] = []\n",
    "pic_data['means'] = []\n",
    "\n",
    "for key in img_class.keys():\n",
    "  pic_data['id'].append(key)\n",
    "  pic_data['text'].append(\" \".join(img_text[key[:-4]]))\n",
    "  pic_data['probabilities'].append(img_class[key])\n",
    "  pic_data['clusters'].append(img_clusters[key])\n",
    "  pic_data['means'].append(img_means[key])\n",
    "\n",
    "pic_data = pandas.DataFrame(pic_data)\n",
    "pic_data\n",
    "\n",
    "pic_attributes = {'id': []}\n",
    "for key, cnts in img_most_common: \n",
    "  pic_attributes['id'].append(key)\n",
    "  pic_attributes['text_' + key] =  pic_data['text'].str.lower().str.count(key.lower())\n"
   ]
  },
  {
   "cell_type": "code",
   "execution_count": null,
   "metadata": {
    "colab": {
     "base_uri": "https://localhost:8080/"
    },
    "id": "8G_8OSd7Eeif",
    "outputId": "0539e2d4-0fa5-41dc-acee-13d244bcdcf8",
    "pycharm": {
     "is_executing": true
    }
   },
   "outputs": [],
   "source": [
    "img_clusters = pickle.load(open(\"../../pickle/image_color_clusters.pkl\", \"rb\"))\n",
    "img_means = pickle.load(open(\"../../pickle/image_hsv_means.pkl\", \"rb\"))\n",
    "\n",
    "pic_data = {}\n",
    "pic_data['id'] = []\n",
    "pic_data['text'] = []\n",
    "pic_data['probabilities'] = []\n",
    "pic_data['clusters'] = []\n",
    "pic_data['means'] = []\n",
    "\n",
    "for key in img_means.keys():\n",
    "  pic_data['id'].append(key)\n",
    "  pic_data['text'].append(\" \".join(img_text[key[:-4]]))\n",
    "  pic_data['probabilities'].append(img_class[key])\n",
    "  pic_data['clusters'].append(img_clusters[key])\n",
    "  pic_data['means'].append(img_means[key])\n",
    "\n",
    "pic_data = pandas.DataFrame(pic_data)\n",
    "\n",
    "pic_attributes = {'id': pic_data['id']}\n",
    "for key, cnts in img_most_common: \n",
    "  pic_attributes['text_' + key] =  pic_data['text'].str.lower().str.count(key.lower())\n",
    "\n",
    "pic_attributes['h_sin'] = pic_data['means'].apply(lambda s:  np.sin(2*np.pi*(s[0]/255)))\n",
    "pic_attributes['h_cos'] = pic_data['means'].apply(lambda s:  np.sin(2*np.pi*(s[0]/255)))\n",
    "pic_attributes['s'] = pic_data['means'].apply(lambda s: s[1]/255)\n",
    "pic_attributes['v'] = pic_data['means'].apply(lambda s: s[2]/255)\n",
    "\n",
    "for j in range(5):\n",
    "  for i in range(3):\n",
    "    pic_attributes['color_'+str(j)+'_'+'rgb'[i]] = pic_data['clusters'].apply(lambda s: s['color'][j][i])\n",
    "  pic_attributes['color_'+str(j)+'_%'] = pic_data['clusters'].apply(lambda s: s['percentage'][j])\n",
    "\n",
    "pic_attributes = pandas.DataFrame(pic_attributes)\n",
    "print(pic_attributes)"
   ]
  },
  {
   "cell_type": "code",
   "execution_count": null,
   "metadata": {
    "id": "omrf6dQ9JAOR",
    "pycharm": {
     "is_executing": true
    }
   },
   "outputs": [],
   "source": []
  },
  {
   "cell_type": "code",
   "execution_count": null,
   "metadata": {
    "id": "Ja8S3rFlTh8l",
    "pycharm": {
     "is_executing": true
    }
   },
   "outputs": [],
   "source": []
  },
  {
   "cell_type": "code",
   "execution_count": null,
   "metadata": {
    "colab": {
     "base_uri": "https://localhost:8080/"
    },
    "id": "xGqDECznWX2P",
    "outputId": "6eda1524-7b89-47a7-c6dc-4bfaa16630bd",
    "pycharm": {
     "is_executing": true
    }
   },
   "outputs": [],
   "source": []
  },
  {
   "cell_type": "code",
   "execution_count": null,
   "metadata": {
    "colab": {
     "base_uri": "https://localhost:8080/"
    },
    "id": "usQFZ1qTXukj",
    "outputId": "e6077a20-fd6f-47e7-a11e-b3c21dc7d3aa",
    "pycharm": {
     "is_executing": true
    }
   },
   "outputs": [],
   "source": []
  },
  {
   "cell_type": "code",
   "execution_count": null,
   "metadata": {
    "colab": {
     "base_uri": "https://localhost:8080/"
    },
    "id": "cPcKxRItYdS1",
    "outputId": "9accb743-63fc-4f06-ec58-c9a87af1c8c8",
    "pycharm": {
     "is_executing": true
    }
   },
   "outputs": [],
   "source": []
  },
  {
   "cell_type": "code",
   "execution_count": null,
   "metadata": {
    "id": "97VQkDG2WMmZ",
    "pycharm": {
     "is_executing": true
    }
   },
   "outputs": [],
   "source": []
  },
  {
   "cell_type": "code",
   "execution_count": null,
   "metadata": {
    "colab": {
     "base_uri": "https://localhost:8080/"
    },
    "id": "TM9AdK00S_BE",
    "outputId": "3b8a2acf-af2c-4405-d4d9-2ee44b6e3c64",
    "pycharm": {
     "is_executing": true
    }
   },
   "outputs": [],
   "source": []
  },
  {
   "cell_type": "code",
   "execution_count": null,
   "metadata": {
    "colab": {
     "base_uri": "https://localhost:8080/",
     "height": 435
    },
    "id": "KycGPAYcS8vM",
    "outputId": "dd24d150-1960-482d-f7f0-15dfd8728ede",
    "pycharm": {
     "is_executing": true
    }
   },
   "outputs": [],
   "source": []
  },
  {
   "cell_type": "code",
   "execution_count": null,
   "metadata": {
    "id": "M9eqhXCFV9tH",
    "pycharm": {
     "is_executing": true
    }
   },
   "outputs": [],
   "source": []
  },
  {
   "cell_type": "code",
   "execution_count": null,
   "metadata": {
    "colab": {
     "base_uri": "https://localhost:8080/"
    },
    "id": "bkDeggK4bCKd",
    "outputId": "b45ee168-7f90-456c-f26e-c54cdf46b520",
    "pycharm": {
     "is_executing": true
    }
   },
   "outputs": [],
   "source": []
  },
  {
   "cell_type": "code",
   "execution_count": null,
   "metadata": {
    "id": "bemJ4u-dbJ-0",
    "pycharm": {
     "is_executing": true
    }
   },
   "outputs": [],
   "source": []
  },
  {
   "cell_type": "code",
   "execution_count": null,
   "metadata": {
    "id": "r9NTIt0YWBwF",
    "pycharm": {
     "is_executing": true
    }
   },
   "outputs": [],
   "source": []
  },
  {
   "cell_type": "code",
   "execution_count": null,
   "metadata": {
    "colab": {
     "base_uri": "https://localhost:8080/",
     "height": 166
    },
    "id": "Daw3RvcFbVAE",
    "outputId": "3720fe6f-f8b3-4354-d2a5-4b4530224ca4",
    "pycharm": {
     "is_executing": true
    }
   },
   "outputs": [],
   "source": []
  },
  {
   "cell_type": "code",
   "execution_count": null,
   "metadata": {
    "colab": {
     "base_uri": "https://localhost:8080/"
    },
    "id": "G5NNQoG_cUo2",
    "outputId": "646e1a1f-aae0-4aa9-8b70-d073a460f6b2",
    "pycharm": {
     "is_executing": true
    }
   },
   "outputs": [],
   "source": []
  },
  {
   "cell_type": "code",
   "execution_count": null,
   "metadata": {
    "id": "u6eQHUGjcMAU",
    "pycharm": {
     "is_executing": true
    }
   },
   "outputs": [],
   "source": []
  }
 ],
 "metadata": {
  "colab": {
   "collapsed_sections": [],
   "name": "IntoTheSun2.ipynb",
   "provenance": []
  },
  "kernelspec": {
   "display_name": "Python 3",
   "language": "python",
   "name": "python3"
  },
  "language_info": {
   "codemirror_mode": {
    "name": "ipython",
    "version": 3
   },
   "file_extension": ".py",
   "mimetype": "text/x-python",
   "name": "python",
   "nbconvert_exporter": "python",
   "pygments_lexer": "ipython3",
   "version": "3.8.7"
  }
 },
 "nbformat": 4,
 "nbformat_minor": 1
}