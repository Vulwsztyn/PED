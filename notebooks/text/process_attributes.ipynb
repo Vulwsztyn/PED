{
 "cells": [
  {
   "cell_type": "code",
   "execution_count": 9,
   "metadata": {},
   "outputs": [],
   "source": [
    "import pandas\n",
    "import pickle\n",
    "import numpy as np\n",
    "from sklearn.ensemble import RandomForestRegressor\n",
    "import pandas\n",
    "\n",
    "df0 = pandas.read_csv('../../data/reddit_wsb.csv')"
   ]
  },
  {
   "cell_type": "code",
   "execution_count": 10,
   "metadata": {},
   "outputs": [
    {
     "name": "stdout",
     "output_type": "stream",
     "text": [
      "   title_gme  body_gme  title_hold  body_hold  title_buy  body_buy  \\\n",
      "0          0         1           0          0          0         1   \n",
      "1          1         0           1          0          0         0   \n",
      "2          0         0           0          0          0         0   \n",
      "3          0         1           0          0          0         0   \n",
      "4          0         1           0          0          0         1   \n",
      "\n",
      "   title_retard  body_retard  title_wife  body_wife  ...  reddit_link  \\\n",
      "0             0            0           0          0  ...            1   \n",
      "1             0            0           0          0  ...            0   \n",
      "2             0            0           0          0  ...            1   \n",
      "3             0            0           0          0  ...            1   \n",
      "4             0            0           0          0  ...            1   \n",
      "\n",
      "   yt_link  tweet_link  facebook_link  gif  score  sin_time  cos_time  day  \\\n",
      "0        0           0              0    0      4 -0.983755 -0.179518    8   \n",
      "1        0           0              0    0   1157 -0.206489  0.978449   11   \n",
      "2        0           0              0    0      0  0.983242  0.182307   16   \n",
      "3        0           0              0    0      3 -0.932350 -0.361557    9   \n",
      "4        0           0              0    0      4 -0.833765 -0.552119    9   \n",
      "\n",
      "   comms_num  \n",
      "0          2  \n",
      "1         85  \n",
      "2          7  \n",
      "3          0  \n",
      "4          7  \n",
      "\n",
      "[5 rows x 228 columns]\n"
     ]
    }
   ],
   "source": [
    "df = pickle.load(open(\"../../pickle/text_attr.pkl\", \"rb\"))\n",
    "df['comms_num'] = df0['comms_num']\n",
    "print(df.head())"
   ]
  },
  {
   "cell_type": "markdown",
   "metadata": {},
   "source": [
    "# Wycinanie atrybutów po korelacji"
   ]
  },
  {
   "cell_type": "code",
   "execution_count": 11,
   "metadata": {},
   "outputs": [],
   "source": [
    "reduced_attr_count = 120\n",
    "corr_matrix = df.corr(method='spearman')"
   ]
  },
  {
   "cell_type": "code",
   "execution_count": 12,
   "metadata": {},
   "outputs": [],
   "source": [
    "correlations = []\n",
    "for i,column in enumerate(corr_matrix):\n",
    "  x = corr_matrix[column][i+1:]\n",
    "  for row,v in x.items():\n",
    "    correlations.append([v,column,row])\n",
    "correlations.sort(key = lambda x: -abs(x[0]))"
   ]
  },
  {
   "cell_type": "code",
   "execution_count": 13,
   "metadata": {},
   "outputs": [],
   "source": [
    "df_score = df.copy()\n",
    "score_corr = corr_matrix['score'][corr_matrix['score']<1]\n",
    "for corr in correlations:\n",
    "  if len(df_score.columns) <= reduced_attr_count: break\n",
    "  c,a1,a2 = corr\n",
    "  if 'score' in [a1,a2]: continue\n",
    "  if a1 in df_score and a2 in df_score:\n",
    "    to_be_removed = a1 if score_corr[a1] < score_corr[a2] else a2\n",
    "    del df_score[to_be_removed]"
   ]
  },
  {
   "cell_type": "code",
   "execution_count": 14,
   "metadata": {},
   "outputs": [],
   "source": [
    "df_comms_num = df.copy()\n",
    "comms_num_corr = corr_matrix['comms_num'][corr_matrix['comms_num']<1]\n",
    "for corr in correlations:\n",
    "  if len(df_comms_num.columns) <= reduced_attr_count: break\n",
    "  c,a1,a2 = corr\n",
    "  if 'comms_num' in [a1,a2]: continue\n",
    "  if a1 in df_comms_num and a2 in df_comms_num:\n",
    "    to_be_removed = a1 if comms_num_corr[a1] < comms_num_corr[a2] else a2\n",
    "    del df_comms_num[to_be_removed]"
   ]
  },
  {
   "cell_type": "markdown",
   "metadata": {},
   "source": [
    "# Finałowe wycinanie atrybutów po feature importance"
   ]
  },
  {
   "cell_type": "code",
   "execution_count": 15,
   "metadata": {},
   "outputs": [
    {
     "name": "stdout",
     "output_type": "stream",
     "text": [
      "       title_loss  title_today  title_trade  title_td  title_get  title_🧻  \\\n",
      "0               0            0            0         0          0        0   \n",
      "1               0            0            0         0          0        0   \n",
      "2               0            0            0         0          0        0   \n",
      "3               0            0            0         0          0        0   \n",
      "4               0            0            0         0          0        0   \n",
      "...           ...          ...          ...       ...        ...      ...   \n",
      "38903           0            0            0         0          2        0   \n",
      "38904           0            0            0         0          0        0   \n",
      "38905           0            0            0         0          0        0   \n",
      "38906           0            0            0         0          0        0   \n",
      "38907           0            0            0         0          0        0   \n",
      "\n",
      "       title_right  title_know  title_nokia  title_fuck  ...  title_wsb  \\\n",
      "0                0           0            0           0  ...          1   \n",
      "1                0           0            0           0  ...          0   \n",
      "2                0           0            0           0  ...          0   \n",
      "3                0           0            0           0  ...          0   \n",
      "4                0           0            0           0  ...          0   \n",
      "...            ...         ...          ...         ...  ...        ...   \n",
      "38903            0           0            0           0  ...          0   \n",
      "38904            0           0            0           0  ...          0   \n",
      "38905            0           0            0           0  ...          0   \n",
      "38906            0           0            0           0  ...          0   \n",
      "38907            0           0            0           0  ...          0   \n",
      "\n",
      "       title_webull  title_open  title_hold  title_come  title_try  \\\n",
      "0                 0           0           0           0          0   \n",
      "1                 0           0           1           0          0   \n",
      "2                 0           0           0           0          0   \n",
      "3                 0           0           0           0          0   \n",
      "4                 0           0           0           0          0   \n",
      "...             ...         ...         ...         ...        ...   \n",
      "38903             0           0           0           0          0   \n",
      "38904             0           0           0           0          0   \n",
      "38905             0           0           0           0          0   \n",
      "38906             0           0           0           0          0   \n",
      "38907             0           0           0           0          0   \n",
      "\n",
      "       title_block  title_shit  title_bb  score  \n",
      "0                0           0         0      4  \n",
      "1                0           0         0   1157  \n",
      "2                0           0         0      0  \n",
      "3                0           0         0      3  \n",
      "4                0           0         0      4  \n",
      "...            ...         ...       ...    ...  \n",
      "38903            0           0         0      0  \n",
      "38904            0           0         0     16  \n",
      "38905            0           0         0     77  \n",
      "38906            0           0         0      0  \n",
      "38907            0           0         0     96  \n",
      "\n",
      "[38908 rows x 51 columns]\n"
     ]
    }
   ],
   "source": [
    "final_attr_count = 50\n",
    "rf = RandomForestRegressor()\n",
    "rf.fit(df_score[df_score.columns.difference(['score', 'comms_num'])], df_score['score'])\n",
    "\n",
    "result = sorted(zip(map(lambda x: round(x, 4), rf.feature_importances_), df_score.head()), \n",
    "             reverse=True)\n",
    "selected = []\n",
    "for x in result[:final_attr_count]:\n",
    "    selected.append(x[1])\n",
    "selected_attributes = df_score[selected + ['score']]\n",
    "print(selected_attributes)\n",
    "\n",
    "pickle.dump(selected_attributes, open( \"../../pickle/text_attributes_processed_score.pkl\", \"wb\" ))"
   ]
  },
  {
   "cell_type": "code",
   "execution_count": 16,
   "metadata": {},
   "outputs": [
    {
     "name": "stdout",
     "output_type": "stream",
     "text": [
      "       body_help  title_day  body_order  title_stop  body_shit  body_gamestop  \\\n",
      "0              0          0           0           0          0              0   \n",
      "1              0          0           0           0          0              0   \n",
      "2              0          0           0           0          0              0   \n",
      "3              0          0           3           0          0              0   \n",
      "4              0          0           0           0          0              0   \n",
      "...          ...        ...         ...         ...        ...            ...   \n",
      "38903          0          0           0           0          0              0   \n",
      "38904          0          0           0           0          0              0   \n",
      "38905          0          0           0           0          0              0   \n",
      "38906          0          0           0           0          0              0   \n",
      "38907          0          0           0           0          0              0   \n",
      "\n",
      "       title_hedgies  title_get  body_let  title_wife  ...  title_want  \\\n",
      "0                  0          0         0           0  ...           0   \n",
      "1                  0          0         0           0  ...           0   \n",
      "2                  0          0         0           0  ...           0   \n",
      "3                  0          0         0           0  ...           0   \n",
      "4                  0          0         0           0  ...           0   \n",
      "...              ...        ...       ...         ...  ...         ...   \n",
      "38903              0          2         0           0  ...           0   \n",
      "38904              0          0         0           0  ...           0   \n",
      "38905              0          0         0           0  ...           1   \n",
      "38906              0          0         0           0  ...           0   \n",
      "38907              0          0         0           0  ...           0   \n",
      "\n",
      "       title_look  title_hold  title_guy  title_yolo  title_work  title_will  \\\n",
      "0               0           0          0           0           0           0   \n",
      "1               0           1          0           0           0           0   \n",
      "2               0           0          0           0           0           0   \n",
      "3               0           0          0           0           0           0   \n",
      "4               0           0          0           0           0           0   \n",
      "...           ...         ...        ...         ...         ...         ...   \n",
      "38903           0           0          0           0           0           0   \n",
      "38904           0           0          0           0           0           0   \n",
      "38905           0           0          0           0           0           0   \n",
      "38906           0           0          0           0           0           0   \n",
      "38907           0           0          0           0           0           0   \n",
      "\n",
      "       title_time  title_think  comms_num  \n",
      "0               0            0          2  \n",
      "1               0            0         85  \n",
      "2               0            0          7  \n",
      "3               0            0          0  \n",
      "4               0            0          7  \n",
      "...           ...          ...        ...  \n",
      "38903           0            0         15  \n",
      "38904           0            0          2  \n",
      "38905           0            0         10  \n",
      "38906           0            0         19  \n",
      "38907           0            0         42  \n",
      "\n",
      "[38908 rows x 51 columns]\n"
     ]
    }
   ],
   "source": [
    "rf = RandomForestRegressor()\n",
    "rf.fit(df_comms_num[df_comms_num.columns.difference(['score', 'comms_num'])], df_comms_num['comms_num'])\n",
    "\n",
    "result = sorted(zip(map(lambda x: round(x, 4), rf.feature_importances_), df_comms_num.head()), \n",
    "             reverse=True)\n",
    "selected = []\n",
    "for x in result[:final_attr_count]:\n",
    "    selected.append(x[1])\n",
    "selected_attributes = df_comms_num[selected + ['comms_num']]\n",
    "print(selected_attributes)\n",
    "\n",
    "pickle.dump(selected_attributes, open( \"../../pickle/text_attributes_processed_comms_num.pkl\", \"wb\" ))"
   ]
  },
  {
   "cell_type": "code",
   "execution_count": null,
   "metadata": {},
   "outputs": [],
   "source": []
  },
  {
   "cell_type": "code",
   "execution_count": null,
   "metadata": {},
   "outputs": [],
   "source": []
  }
 ],
 "metadata": {
  "kernelspec": {
   "display_name": "Python 3",
   "language": "python",
   "name": "python3"
  },
  "language_info": {
   "codemirror_mode": {
    "name": "ipython",
    "version": 3
   },
   "file_extension": ".py",
   "mimetype": "text/x-python",
   "name": "python",
   "nbconvert_exporter": "python",
   "pygments_lexer": "ipython3",
   "version": "3.9.1"
  }
 },
 "nbformat": 4,
 "nbformat_minor": 1
}
