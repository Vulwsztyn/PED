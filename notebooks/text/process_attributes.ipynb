{
 "cells": [
  {
   "cell_type": "code",
   "execution_count": 4,
   "metadata": {},
   "outputs": [],
   "source": [
    "import pandas\n",
    "import pickle\n",
    "import numpy as np\n",
    "from sklearn.ensemble import RandomForestRegressor\n",
    "import pandas\n",
    "\n",
    "df0 = pandas.read_csv('../../data/reddit_wsb.csv')"
   ]
  },
  {
   "cell_type": "code",
   "execution_count": 5,
   "metadata": {},
   "outputs": [
    {
     "name": "stdout",
     "output_type": "stream",
     "text": [
      "   title_gme  body_gme  title_hold  body_hold  title_buy  body_buy  \\\n",
      "0          0         1           0          0          0         1   \n",
      "1          1         0           1          0          0         0   \n",
      "2          0         0           0          0          0         0   \n",
      "3          0         1           0          0          0         0   \n",
      "4          0         1           0          0          0         1   \n",
      "\n",
      "   title_retard  body_retard  title_wife  body_wife  ...  yt_link  tweet_link  \\\n",
      "0             0            0           0          0  ...        0           0   \n",
      "1             0            0           0          0  ...        0           0   \n",
      "2             0            0           0          0  ...        0           0   \n",
      "3             0            0           0          0  ...        0           0   \n",
      "4             0            0           0          0  ...        0           0   \n",
      "\n",
      "   facebook_link  gif  score  sin_time  cos_time  day  comms_num      id  \n",
      "0              0    0      4 -0.983755 -0.179518    8          2  l69fvk  \n",
      "1              0    0   1157 -0.206489  0.978449   11         85  l87ci6  \n",
      "2              0    0      0  0.983242  0.182307   16          7  lc8dnh  \n",
      "3              0    0      3 -0.932350 -0.361557    9          0  l71knz  \n",
      "4              0    0      4 -0.833765 -0.552119    9          7  l70720  \n",
      "\n",
      "[5 rows x 229 columns]\n"
     ]
    }
   ],
   "source": [
    "df = pickle.load(open(\"../../pickle/text_attr.pkl\", \"rb\"))\n",
    "df['comms_num'] = df0['comms_num']\n",
    "df['id'] = df0['id']\n",
    "print(df.head())"
   ]
  },
  {
   "cell_type": "markdown",
   "metadata": {},
   "source": [
    "# Wycinanie atrybutów po korelacji"
   ]
  },
  {
   "cell_type": "code",
   "execution_count": 6,
   "metadata": {},
   "outputs": [],
   "source": [
    "reduced_attr_count = 120\n",
    "corr_matrix = df.corr(method='spearman')"
   ]
  },
  {
   "cell_type": "code",
   "execution_count": 7,
   "metadata": {},
   "outputs": [],
   "source": [
    "correlations = []\n",
    "for i,column in enumerate(corr_matrix):\n",
    "  x = corr_matrix[column][i+1:]\n",
    "  for row,v in x.items():\n",
    "    correlations.append([v,column,row])\n",
    "correlations.sort(key = lambda x: -abs(x[0]))"
   ]
  },
  {
   "cell_type": "code",
   "execution_count": 8,
   "metadata": {},
   "outputs": [],
   "source": [
    "df_score = df.copy()\n",
    "score_corr = corr_matrix['score'][corr_matrix['score']<1]\n",
    "for corr in correlations:\n",
    "  if len(df_score.columns) <= reduced_attr_count: break\n",
    "  c,a1,a2 = corr\n",
    "  if 'score' in [a1,a2]: continue\n",
    "  if a1 in df_score and a2 in df_score:\n",
    "    to_be_removed = a1 if score_corr[a1] < score_corr[a2] else a2\n",
    "    del df_score[to_be_removed]"
   ]
  },
  {
   "cell_type": "code",
   "execution_count": 9,
   "metadata": {},
   "outputs": [],
   "source": [
    "df_comms_num = df.copy()\n",
    "comms_num_corr = corr_matrix['comms_num'][corr_matrix['comms_num']<1]\n",
    "for corr in correlations:\n",
    "  if len(df_comms_num.columns) <= reduced_attr_count: break\n",
    "  c,a1,a2 = corr\n",
    "  if 'comms_num' in [a1,a2]: continue\n",
    "  if a1 in df_comms_num and a2 in df_comms_num:\n",
    "    to_be_removed = a1 if comms_num_corr[a1] < comms_num_corr[a2] else a2\n",
    "    del df_comms_num[to_be_removed]"
   ]
  },
  {
   "cell_type": "markdown",
   "metadata": {},
   "source": [
    "# Finałowe wycinanie atrybutów po feature importance"
   ]
  },
  {
   "cell_type": "code",
   "execution_count": 14,
   "metadata": {},
   "outputs": [
    {
     "name": "stdout",
     "output_type": "stream",
     "text": [
      "       title_loss  title_today  title_trade  title_td  title_get  title_know  \\\n",
      "0               0            0            0         0          0           0   \n",
      "1               0            0            0         0          0           0   \n",
      "2               0            0            0         0          0           0   \n",
      "3               0            0            0         0          0           0   \n",
      "4               0            0            0         0          0           0   \n",
      "...           ...          ...          ...       ...        ...         ...   \n",
      "38903           0            0            0         0          2           0   \n",
      "38904           0            0            0         0          0           0   \n",
      "38905           0            0            0         0          0           0   \n",
      "38906           0            0            0         0          0           0   \n",
      "38907           0            0            0         0          0           0   \n",
      "\n",
      "       title_nokia  title_market  title_allow  body_moon  ...  title_try  \\\n",
      "0                0             0            0          0  ...          0   \n",
      "1                0             0            0          0  ...          0   \n",
      "2                0             0            0          0  ...          0   \n",
      "3                0             0            0          0  ...          0   \n",
      "4                0             0            0          0  ...          0   \n",
      "...            ...           ...          ...        ...  ...        ...   \n",
      "38903            0             0            0          0  ...          0   \n",
      "38904            0             0            0          0  ...          0   \n",
      "38905            0             0            0          0  ...          0   \n",
      "38906            0             0            0          0  ...          0   \n",
      "38907            0             0            0          0  ...          0   \n",
      "\n",
      "       title_like  title_wsb  title_🙏  title_block  body_stop  title_not  \\\n",
      "0               0          1        0            0          0          0   \n",
      "1               0          0        0            0          0          0   \n",
      "2               0          0        0            0          0          0   \n",
      "3               0          0        0            0          0          0   \n",
      "4               0          0        0            0          0          0   \n",
      "...           ...        ...      ...          ...        ...        ...   \n",
      "38903           0          0        0            0          0          0   \n",
      "38904           0          0        0            0          0          1   \n",
      "38905           0          0        0            0          0          0   \n",
      "38906           0          0        0            0          0          0   \n",
      "38907           0          0        0            0          0          0   \n",
      "\n",
      "       body_fucking  score      id  \n",
      "0                 0      4  l69fvk  \n",
      "1                 0   1157  l87ci6  \n",
      "2                 0      0  lc8dnh  \n",
      "3                 0      3  l71knz  \n",
      "4                 0      4  l70720  \n",
      "...             ...    ...     ...  \n",
      "38903             0      0  l6b99w  \n",
      "38904             0     16  l6zb4b  \n",
      "38905             0     77  l70tgo  \n",
      "38906             0      0  lcgmi4  \n",
      "38907             0     96  l8fis7  \n",
      "\n",
      "[38908 rows x 52 columns]\n"
     ]
    }
   ],
   "source": [
    "final_attr_count = 50\n",
    "rf = RandomForestRegressor()\n",
    "rf.fit(df_score[df_score.columns.difference(['score', 'comms_num', 'id'])], df_score['score'])\n",
    "\n",
    "result = sorted(zip(map(lambda x: round(x, 4), rf.feature_importances_), df_score.head()), \n",
    "             reverse=True)\n",
    "selected = []\n",
    "for x in result[:final_attr_count]:\n",
    "    selected.append(x[1])\n",
    "selected_attributes = df_score[selected + ['score', 'id']]\n",
    "print(selected_attributes)\n",
    "\n",
    "pickle.dump(selected_attributes, open( \"../../pickle/text_attributes_processed_score.pkl\", \"wb\" ))"
   ]
  },
  {
   "cell_type": "code",
   "execution_count": 13,
   "metadata": {},
   "outputs": [
    {
     "name": "stdout",
     "output_type": "stream",
     "text": [
      "       body_order  title_day  body_wsb  body_shit  title_stop  body_gamestop  \\\n",
      "0               0          0         0          0           0              0   \n",
      "1               0          0         0          0           0              0   \n",
      "2               0          0         0          0           0              0   \n",
      "3               3          0         0          0           0              0   \n",
      "4               0          0         0          0           0              0   \n",
      "...           ...        ...       ...        ...         ...            ...   \n",
      "38903           0          0         0          0           0              0   \n",
      "38904           0          0         0          0           0              0   \n",
      "38905           0          0         0          0           0              0   \n",
      "38906           0          0         0          0           0              0   \n",
      "38907           0          0         0          0           0              0   \n",
      "\n",
      "       body_guy  title_hedgies  body_let  body_moon  ...  title_allow  \\\n",
      "0             0              0         0          0  ...            0   \n",
      "1             0              0         0          0  ...            0   \n",
      "2             0              0         0          0  ...            0   \n",
      "3             0              0         0          0  ...            0   \n",
      "4             0              0         0          0  ...            0   \n",
      "...         ...            ...       ...        ...  ...          ...   \n",
      "38903         0              0         0          0  ...            0   \n",
      "38904         0              0         0          0  ...            0   \n",
      "38905         0              0         0          0  ...            0   \n",
      "38906         0              0         0          0  ...            0   \n",
      "38907         0              0         0          0  ...            0   \n",
      "\n",
      "       title_say  title_order  title_know  title_happen  title_boy  \\\n",
      "0              0            0           0             1          0   \n",
      "1              0            0           0             0          0   \n",
      "2              0            0           0             0          0   \n",
      "3              0            0           0             0          0   \n",
      "4              0            0           0             0          0   \n",
      "...          ...          ...         ...           ...        ...   \n",
      "38903          0            0           0             0          0   \n",
      "38904          0            0           0             0          0   \n",
      "38905          0            0           0             0          0   \n",
      "38906          0            0           0             0          0   \n",
      "38907          0            0           0             0          0   \n",
      "\n",
      "       title_block  title_yolo  comms_num      id  \n",
      "0                0           0          2  l69fvk  \n",
      "1                0           0         85  l87ci6  \n",
      "2                0           0          7  lc8dnh  \n",
      "3                0           0          0  l71knz  \n",
      "4                0           0          7  l70720  \n",
      "...            ...         ...        ...     ...  \n",
      "38903            0           0         15  l6b99w  \n",
      "38904            0           0          2  l6zb4b  \n",
      "38905            0           0         10  l70tgo  \n",
      "38906            0           0         19  lcgmi4  \n",
      "38907            0           0         42  l8fis7  \n",
      "\n",
      "[38908 rows x 52 columns]\n"
     ]
    }
   ],
   "source": [
    "rf = RandomForestRegressor()\n",
    "rf.fit(df_comms_num[df_comms_num.columns.difference(['score', 'comms_num', 'id'])], df_comms_num['comms_num'])\n",
    "\n",
    "result = sorted(zip(map(lambda x: round(x, 4), rf.feature_importances_), df_comms_num.head()), \n",
    "             reverse=True)\n",
    "selected = []\n",
    "for x in result[:final_attr_count]:\n",
    "    selected.append(x[1])\n",
    "selected_attributes = df_comms_num[selected + ['comms_num', 'id']]\n",
    "print(selected_attributes)\n",
    "\n",
    "pickle.dump(selected_attributes, open( \"../../pickle/text_attributes_processed_comms_num.pkl\", \"wb\" ))"
   ]
  },
  {
   "cell_type": "code",
   "execution_count": null,
   "metadata": {},
   "outputs": [],
   "source": []
  },
  {
   "cell_type": "code",
   "execution_count": null,
   "metadata": {},
   "outputs": [],
   "source": []
  }
 ],
 "metadata": {
  "kernelspec": {
   "display_name": "Python 3",
   "language": "python",
   "name": "python3"
  },
  "language_info": {
   "codemirror_mode": {
    "name": "ipython",
    "version": 3
   },
   "file_extension": ".py",
   "mimetype": "text/x-python",
   "name": "python",
   "nbconvert_exporter": "python",
   "pygments_lexer": "ipython3",
   "version": "3.9.1"
  }
 },
 "nbformat": 4,
 "nbformat_minor": 1
}
