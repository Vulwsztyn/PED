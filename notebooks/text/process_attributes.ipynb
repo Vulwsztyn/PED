{
 "cells": [
  {
   "cell_type": "code",
   "execution_count": 1,
   "metadata": {},
   "outputs": [],
   "source": [
    "import pandas\n",
    "import pickle\n",
    "import numpy as np\n",
    "from sklearn.ensemble import RandomForestRegressor"
   ]
  },
  {
   "cell_type": "code",
   "execution_count": 7,
   "metadata": {},
   "outputs": [
    {
     "name": "stdout",
     "output_type": "stream",
     "text": [
      "   title_gme  body_gme  title_hold  body_hold  title_buy  body_buy  \\\n",
      "0          0         1           0          0          0         1   \n",
      "1          1         0           1          0          0         0   \n",
      "2          0         0           0          0          0         0   \n",
      "3          0         1           0          0          0         0   \n",
      "4          0         1           0          0          0         1   \n",
      "\n",
      "   title_retard  body_retard  title_wife  body_wife  ...  link  reddit_link  \\\n",
      "0             0            0           0          0  ...     1            1   \n",
      "1             0            0           0          0  ...     1            0   \n",
      "2             0            0           0          0  ...     1            1   \n",
      "3             0            0           0          0  ...     1            1   \n",
      "4             0            0           0          0  ...     1            1   \n",
      "\n",
      "   yt_link  tweet_link  facebook_link  gif  score  sin_time  cos_time  day  \n",
      "0        0           0              0    0      4 -0.983755 -0.179518    8  \n",
      "1        0           0              0    0   1157 -0.206489  0.978449   11  \n",
      "2        0           0              0    0      0  0.983242  0.182307   16  \n",
      "3        0           0              0    0      3 -0.932350 -0.361557    9  \n",
      "4        0           0              0    0      4 -0.833765 -0.552119    9  \n",
      "\n",
      "[5 rows x 227 columns]\n"
     ]
    }
   ],
   "source": [
    "df = pickle.load(open(\"../../pickle/text_attr.pkl\", \"rb\"))\n",
    "print(df.head())"
   ]
  },
  {
   "cell_type": "markdown",
   "metadata": {},
   "source": [
    "# Wycinanie atrybutów po korelacji"
   ]
  },
  {
   "cell_type": "code",
   "execution_count": 8,
   "metadata": {},
   "outputs": [],
   "source": [
    "reduced_attr_count = 100\n",
    "corr_matrix = df.corr(method='spearman')"
   ]
  },
  {
   "cell_type": "code",
   "execution_count": 9,
   "metadata": {},
   "outputs": [],
   "source": [
    "correlations = []\n",
    "for i,column in enumerate(corr_matrix):\n",
    "  x = corr_matrix[column][i+1:]\n",
    "  for row,v in x.items():\n",
    "    correlations.append([v,column,row])\n",
    "correlations.sort(key = lambda x: -abs(x[0]))"
   ]
  },
  {
   "cell_type": "code",
   "execution_count": 10,
   "metadata": {},
   "outputs": [],
   "source": [
    "score_corr = corr_matrix['score'][corr_matrix['score']<1]\n",
    "for corr in correlations:\n",
    "  if len(df.columns) <= reduced_attr_count: break\n",
    "  c,a1,a2 = corr\n",
    "  if 'score' in [a1,a2]: continue\n",
    "  if a1 in df and a2 in df:\n",
    "    to_be_removed = a1 if score_corr[a1] < score_corr[a2] else a2\n",
    "    del df[to_be_removed]"
   ]
  },
  {
   "cell_type": "markdown",
   "metadata": {},
   "source": [
    "# Finałowe wycinanie atrybutów po feature importance"
   ]
  },
  {
   "cell_type": "code",
   "execution_count": 11,
   "metadata": {},
   "outputs": [
    {
     "data": {
      "text/plain": [
       "[(0.5435, 'body_moon'),\n",
       " (0.0653, 'title_🧻'),\n",
       " (0.0307, 'title_guy'),\n",
       " (0.0244, 'title_good'),\n",
       " (0.0147, 'yt_link'),\n",
       " (0.0138, 'tweet_link'),\n",
       " (0.0098, 'title_nokia'),\n",
       " (0.0088, 'title_stop'),\n",
       " (0.0076, 'title_week'),\n",
       " (0.0076, 'title_open'),\n",
       " (0.0076, 'title_help'),\n",
       " (0.0074, 'title_say'),\n",
       " (0.0073, 'title_will'),\n",
       " (0.0065, 'title_win'),\n",
       " (0.0065, 'title_wife'),\n",
       " (0.0064, 'body_broker'),\n",
       " (0.0062, 'title_shit'),\n",
       " (0.006, 'title_right'),\n",
       " (0.006, 'title_people'),\n",
       " (0.006, 'title_melvin'),\n",
       " (0.006, 'title_hold'),\n",
       " (0.0059, 'title_not'),\n",
       " (0.0058, 'title_trade'),\n",
       " (0.0057, 'title_get'),\n",
       " (0.0055, 'title_work'),\n",
       " (0.0054, 'title_think'),\n",
       " (0.0054, 'title_app'),\n",
       " (0.005, 'title_strong'),\n",
       " (0.0049, 'title_block'),\n",
       " (0.0047, 'title_dip'),\n",
       " (0.0045, 'title_wsb'),\n",
       " (0.0044, 'title_way'),\n",
       " (0.0044, 'title_allow'),\n",
       " (0.0043, 'title_day'),\n",
       " (0.0043, 'body_hedgies'),\n",
       " (0.0042, 'title_support'),\n",
       " (0.0042, 'title_start'),\n",
       " (0.0041, 'title_invest'),\n",
       " (0.0039, 'title_fucking'),\n",
       " (0.0037, 'title_sell'),\n",
       " (0.0037, 'title_long'),\n",
       " (0.0037, 'cos_time'),\n",
       " (0.0035, 'title_loss'),\n",
       " (0.0033, 'title_trading'),\n",
       " (0.0033, 'title_gme'),\n",
       " (0.0033, 'title_boy'),\n",
       " (0.0032, 'body_financial'),\n",
       " (0.0031, 'title_webull'),\n",
       " (0.0031, 'title_thank'),\n",
       " (0.003, 'title_time'),\n",
       " (0.0028, 'title_today'),\n",
       " (0.0028, 'title_share'),\n",
       " (0.0028, 'title_go'),\n",
       " (0.0028, 'title_call'),\n",
       " (0.0027, 'title_hedge'),\n",
       " (0.0027, 'title_be'),\n",
       " (0.0025, 'title_sec'),\n",
       " (0.0025, 'title_know'),\n",
       " (0.0024, 'title_rh'),\n",
       " (0.0024, 'title_post'),\n",
       " (0.0024, 'score'),\n",
       " (0.0023, 'title_hedgies'),\n",
       " (0.0023, 'title_bb'),\n",
       " (0.0023, 'title_account'),\n",
       " (0.0023, 'body_guy'),\n",
       " (0.0022, 'title_like'),\n",
       " (0.0022, 'body_gamestop'),\n",
       " (0.0021, 'title_take'),\n",
       " (0.0021, 'title_order'),\n",
       " (0.0021, 'title_happen'),\n",
       " (0.0021, 'title_fuck'),\n",
       " (0.002, 'title_try'),\n",
       " (0.002, 'title_love'),\n",
       " (0.002, 'title_come'),\n",
       " (0.0019, 'title_retard'),\n",
       " (0.0019, 'title_let'),\n",
       " (0.0017, 'body_not'),\n",
       " (0.0016, 'title_option'),\n",
       " (0.0016, 'title_gain'),\n",
       " (0.0015, 'title_diamond'),\n",
       " (0.0014, 'title_price'),\n",
       " (0.0013, 'title_market'),\n",
       " (0.0013, 'title_lose'),\n",
       " (0.0012, 'title_position'),\n",
       " (0.001, 'title_want'),\n",
       " (0.001, 'title_moon'),\n",
       " (0.0008, 'title_td'),\n",
       " (0.0008, 'title_need'),\n",
       " (0.0007, 'title_yolo'),\n",
       " (0.0007, 'title_squeeze'),\n",
       " (0.0006, 'title_join'),\n",
       " (0.0003, 'title_big'),\n",
       " (0.0003, 'gif'),\n",
       " (0.0002, 'title_leave'),\n",
       " (0.0, 'title_🙏'),\n",
       " (0.0, 'title_wall'),\n",
       " (0.0, 'title_new'),\n",
       " (0.0, 'facebook_link'),\n",
       " (0.0, 'body_wife')]"
      ]
     },
     "execution_count": 11,
     "metadata": {},
     "output_type": "execute_result"
    }
   ],
   "source": [
    "final_attr_count = 30\n",
    "rf = RandomForestRegressor()\n",
    "rf.fit(df[df.columns.difference(['score'])], df['score'])\n",
    "\n",
    "result = sorted(zip(map(lambda x: round(x, 4), rf.feature_importances_), df.head()), \n",
    "             reverse=True)\n",
    "result"
   ]
  },
  {
   "cell_type": "code",
   "execution_count": 13,
   "metadata": {},
   "outputs": [
    {
     "name": "stdout",
     "output_type": "stream",
     "text": [
      "       body_moon  title_🧻  title_guy  title_good  yt_link  tweet_link  \\\n",
      "0              0        0          0           0        0           0   \n",
      "1              0        0          0           0        0           0   \n",
      "2              0        0          0           0        0           0   \n",
      "3              0        0          0           0        0           0   \n",
      "4              0        0          0           0        0           0   \n",
      "...          ...      ...        ...         ...      ...         ...   \n",
      "38903          0        0          0           0        0           0   \n",
      "38904          0        0          0           0        0           0   \n",
      "38905          0        0          0           0        0           0   \n",
      "38906          0        0          0           0        0           0   \n",
      "38907          0        0          0           0        0           1   \n",
      "\n",
      "       title_nokia  title_stop  title_week  title_open  ...  title_not  \\\n",
      "0                0           0           0           0  ...          0   \n",
      "1                0           0           0           0  ...          0   \n",
      "2                0           0           0           0  ...          0   \n",
      "3                0           0           0           0  ...          0   \n",
      "4                0           0           0           0  ...          0   \n",
      "...            ...         ...         ...         ...  ...        ...   \n",
      "38903            0           0           0           0  ...          0   \n",
      "38904            0           0           0           0  ...          1   \n",
      "38905            0           0           0           0  ...          0   \n",
      "38906            0           0           0           0  ...          0   \n",
      "38907            0           0           0           0  ...          0   \n",
      "\n",
      "       title_trade  title_get  title_work  title_think  title_app  \\\n",
      "0                0          0           0            0          0   \n",
      "1                0          0           0            0          0   \n",
      "2                0          0           0            0          0   \n",
      "3                0          0           0            0          0   \n",
      "4                0          0           0            0          0   \n",
      "...            ...        ...         ...          ...        ...   \n",
      "38903            0          2           0            0          0   \n",
      "38904            0          0           0            0          0   \n",
      "38905            0          0           0            0          0   \n",
      "38906            0          0           0            0          0   \n",
      "38907            0          0           0            0          0   \n",
      "\n",
      "       title_strong  title_block  title_dip  score  \n",
      "0                 0            0          0      4  \n",
      "1                 0            0          0   1157  \n",
      "2                 0            0          0      0  \n",
      "3                 0            0          0      3  \n",
      "4                 0            0          0      4  \n",
      "...             ...          ...        ...    ...  \n",
      "38903             0            0          0      0  \n",
      "38904             0            0          0     16  \n",
      "38905             0            0          0     77  \n",
      "38906             0            0          0      0  \n",
      "38907             0            0          0     96  \n",
      "\n",
      "[38908 rows x 31 columns]\n"
     ]
    }
   ],
   "source": [
    "selected = []\n",
    "for x in result[:final_attr_count]:\n",
    "    selected.append(x[1])\n",
    "selected_attributes = df[selected + ['score']]\n",
    "print(selected_attributes)"
   ]
  },
  {
   "cell_type": "code",
   "execution_count": 14,
   "metadata": {},
   "outputs": [],
   "source": [
    "pickle.dump(selected_attributes, open( \"../../pickle/text_attributes_processed.pkl\", \"wb\" ))"
   ]
  },
  {
   "cell_type": "code",
   "execution_count": null,
   "metadata": {},
   "outputs": [],
   "source": []
  }
 ],
 "metadata": {
  "kernelspec": {
   "display_name": "Python 3",
   "language": "python",
   "name": "python3"
  },
  "language_info": {
   "codemirror_mode": {
    "name": "ipython",
    "version": 3
   },
   "file_extension": ".py",
   "mimetype": "text/x-python",
   "name": "python",
   "nbconvert_exporter": "python",
   "pygments_lexer": "ipython3",
   "version": "3.9.1"
  }
 },
 "nbformat": 4,
 "nbformat_minor": 1
}