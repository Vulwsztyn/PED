{
 "cells": [
  {
   "cell_type": "code",
   "execution_count": null,
   "metadata": {},
   "outputs": [],
   "source": [
    "import matplotlib.pyplot as plt\n",
    "import pickle\n",
    "\n",
    "comments_all = pickle.load(open( \"../../pickle/comments_all/comments_all.pkl\", \"rb\" ))\n",
    "\n",
    "comments_mix = comments_all\n",
    "comments_mix.pop('post_id', None)"
   ]
  },
  {
   "cell_type": "code",
   "execution_count": null,
   "metadata": {},
   "outputs": [],
   "source": [
    "import pandas as pd\n",
    "df = pd.read_csv('../../data/reddit_wsb.csv')"
   ]
  },
  {
   "cell_type": "code",
   "execution_count": null,
   "metadata": {},
   "outputs": [],
   "source": [
    "times = {}\n",
    "for id in comments_mix:\n",
    "    times[id] = []\n",
    "    created = df.loc[df['id'] == id].iloc[0].created\n",
    "    for comment in comments_mix[id]:\n",
    "        times[id].append(comment.created_utc - created)\n",
    "for id in times.keys():\n",
    "    times[id].sort()"
   ]
  },
  {
   "cell_type": "code",
   "execution_count": null,
   "metadata": {},
   "outputs": [],
   "source": [
    "bins_count = 12\n",
    "bin_timeframe = 3600\n",
    "\n",
    "buckets={}\n",
    "for id in comments_all:\n",
    "    buckets[id] = []\n",
    "    cur_idx = 0\n",
    "    for i in range(bins_count):\n",
    "        buckets[id].append(0)\n",
    "        for j in range(cur_idx, len(times[id])):\n",
    "            if times[id][j]<bin_timeframe*(i+1):\n",
    "                cur_idx += 1\n",
    "                buckets[id][i] += 1\n",
    "            else:\n",
    "                break\n",
    "                \n",
    "    if np.sum(buckets[id])>len(times[id]):\n",
    "        print(buckets[id])\n",
    "        print(times[id])"
   ]
  },
  {
   "cell_type": "code",
   "execution_count": null,
   "metadata": {},
   "outputs": [],
   "source": [
    "x  = [i*bin_timeframe/60/60 for i in range(bins_count)]\n",
    "\n",
    "plt.plot(x, buckets['l8azdz'])\n",
    "plt.bar(x, buckets['l8azdz'], width=0.25)\n",
    "plt.show()\n",
    "\n",
    "plt.plot(x, buckets['l922ub'])\n",
    "plt.bar(x, buckets['l922ub'], width=0.25)\n",
    "plt.show()"
   ]
  },
  {
   "cell_type": "code",
   "execution_count": null,
   "metadata": {},
   "outputs": [],
   "source": [
    "bucket_sum = 0\n",
    "for bucket in buckets:\n",
    "    bucket_sum += np.sum(buckets[bucket])\n",
    "\n",
    "times_sum = 0\n",
    "for time in times:\n",
    "    times_sum += len(times[time])\n",
    "\n",
    "print(bucket_sum/times_sum)"
   ]
  },
  {
   "cell_type": "code",
   "execution_count": null,
   "metadata": {},
   "outputs": [],
   "source": [
    "buckets_df = pd.DataFrame(buckets.items(), columns=['id', 'buckets'])\n",
    "buckets_df['buckets_1'] = buckets_df['buckets'].apply(lambda x: x[0])\n",
    "buckets_df['buckets_2'] = buckets_df['buckets'].apply(lambda x: x[1])\n",
    "buckets_df['buckets_3'] = buckets_df['buckets'].apply(lambda x: x[2])\n",
    "buckets_df['buckets_4'] = buckets_df['buckets'].apply(lambda x: x[3])\n",
    "buckets_df['buckets_5'] = buckets_df['buckets'].apply(lambda x: x[4])\n",
    "print(buckets_df)"
   ]
  },
  {
   "cell_type": "code",
   "execution_count": null,
   "metadata": {},
   "outputs": [],
   "source": [
    "attributes = pickle.load(open( \"../../pickle/text_attributes_processed_comms_num.pkl\", \"rb\" ))\n",
    "attributes = pd.merge(attributes, buckets_df, on=\"id\")"
   ]
  },
  {
   "cell_type": "code",
   "execution_count": null,
   "metadata": {},
   "outputs": [],
   "source": [
    "import numpy as np\n",
    "from sklearn.datasets import load_linnerud\n",
    "from sklearn.multioutput import MultiOutputRegressor\n",
    "from sklearn.linear_model import Ridge\n",
    "from sklearn.ensemble import RandomForestRegressor\n",
    "from sklearn.model_selection import train_test_split\n",
    "\n",
    "exclude = lambda x: x[x.columns.difference(EXCLUDED_COLUMNS)]\n",
    "\n",
    "train, test = train_test_split(attributes, test_size=0.2, random_state=123)\n",
    "\n",
    "EXCLUDED_COLUMNS = ['id', 'score', 'comms_num', 'buckets', 'buckets_1', 'buckets_2', 'buckets_3', 'buckets_4', 'buckets_5']\n",
    "train_without_exculded = exclude(train)\n",
    "test_without_excluded = exclude(test)\n",
    "attributes_without_excluded = exclude(attributes)\n",
    "\n",
    "\n",
    "clf = MultiOutputRegressor(RandomForestRegressor(random_state=123)).fit(train_without_exculded, train['buckets'].to_list())\n",
    "clf.predict(test_without_excluded)"
   ]
  },
  {
   "cell_type": "code",
   "execution_count": null,
   "metadata": {},
   "outputs": [],
   "source": [
    "def probe_post(post_id,clf,attributes_excluded ):\n",
    "    new_prediction = clf.predict(attributes_excluded[attributes['id']==post_id])[0]\n",
    "    plt.plot(x, new_prediction, color='blue')\n",
    "    plt.plot(x, buckets[post_id], color='red')\n",
    "    plt.show()\n",
    "    print('reddit comment count: ', attributes[attributes['id']==post_id]['comms_num'].to_list()[0])\n",
    "    print('actual comment count: ', len(times[post_id]))\n",
    "    print('timeslot comment count: ', np.sum(buckets[post_id]))\n",
    "    print('old predicted comments', clf_com_numms.predict(attributes_without_excluded[attributes['id']==post_id])[0])\n",
    "    print('new predicted comments', np.sum(new_prediction))\n",
    "\n",
    "    \n",
    "probe_post('l8azdz', clf, attributes_without_excluded)\n",
    "probe_post('l922ub', clf, attributes_without_excluded)"
   ]
  },
  {
   "cell_type": "code",
   "execution_count": null,
   "metadata": {},
   "outputs": [],
   "source": [
    "EXCLUDED_COLUMNS = ['id', 'score', 'comms_num', 'buckets', 'buckets_2', 'buckets_3', 'buckets_4', 'buckets_5']\n",
    "train_without_exculded_1 = exclude(train)\n",
    "test_without_excluded_1 = exclude(test)\n",
    "attributes_without_excluded_1 = exclude(attributes)\n",
    "\n",
    "clf_1 = MultiOutputRegressor(RandomForestRegressor(random_state=123)).fit(train_without_exculded_1, train['buckets'].to_list())"
   ]
  },
  {
   "cell_type": "code",
   "execution_count": null,
   "metadata": {},
   "outputs": [],
   "source": [
    "probe_post('l8azdz', clf_1, attributes_without_excluded_1)\n",
    "probe_post('l922ub', clf_1, attributes_without_excluded_1)"
   ]
  },
  {
   "cell_type": "code",
   "execution_count": null,
   "metadata": {},
   "outputs": [],
   "source": [
    "EXCLUDED_COLUMNS = ['id', 'score', 'comms_num', 'buckets', 'buckets_1', 'buckets_5']\n",
    "train_without_exculded_3 = exclude(train)\n",
    "test_without_excluded_3 = exclude(test)\n",
    "attributes_without_excluded_3 = exclude(attributes)\n",
    "\n",
    "\n",
    "clf_3 = MultiOutputRegressor(RandomForestRegressor(random_state=123)).fit(train_without_exculded_3, train['buckets'].to_list())\n",
    "                                                                                                       107:\n",
    "probe_post('l8azdz', clf_3, attributes_without_excluded_3)\n",
    "probe_post('l922ub', clf_3, attributes_without_excluded_3)"
   ]
  },
  {
   "cell_type": "code",
   "execution_count": null,
   "metadata": {},
   "outputs": [],
   "source": [
    "EXCLUDED_COLUMNS = ['id', 'score', 'comms_num', 'buckets']\n",
    "train_without_exculded_5 = exclude(train)\n",
    "test_without_excluded_5 = exclude(test)\n",
    "attributes_without_excluded_5 = exclude(attributes)\n",
    "\n",
    "\n",
    "clf_5 = MultiOutputRegressor(RandomForestRegressor(random_state=123)).fit(train_without_exculded_5, train['buckets'].to_list())"
   ]
  },
  {
   "cell_type": "code",
   "execution_count": null,
   "metadata": {},
   "outputs": [],
   "source": []
  },
  {
   "cell_type": "code",
   "execution_count": null,
   "metadata": {},
   "outputs": [],
   "source": []
  }
 ],
 "metadata": {
  "kernelspec": {
   "display_name": "Python 3",
   "language": "python",
   "name": "python3"
  },
  "language_info": {
   "codemirror_mode": {
    "name": "ipython",
    "version": 3
   },
   "file_extension": ".py",
   "mimetype": "text/x-python",
   "name": "python",
   "nbconvert_exporter": "python",
   "pygments_lexer": "ipython3",
   "version": "3.9.1"
  }
 },
 "nbformat": 4,
 "nbformat_minor": 1
}