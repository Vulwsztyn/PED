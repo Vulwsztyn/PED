{
 "cells": [
  {
   "cell_type": "code",
   "execution_count": 1,
   "metadata": {},
   "outputs": [],
   "source": [
    "from praw.models import MoreComments\n",
    "import datetime as dt\n",
    "import time\n",
    "import csv\n",
    "import os\n",
    "from dotenv import load_dotenv\n",
    "import matplotlib.pyplot as plt\n",
    "import pandas\n",
    "import pickle\n",
    "\n",
    "df = pandas.read_csv('../../data/reddit_wsb.csv')\n",
    "df = df.sort_values(by=['comms_num'], ascending=True)\n",
    "\n",
    "comments_all = pickle.load(open( \"../../pickle/comments_all/comments_all_new_38000.pkl\", \"rb\" ))"
   ]
  },
  {
   "cell_type": "code",
   "execution_count": 2,
   "metadata": {},
   "outputs": [
    {
     "name": "stdout",
     "output_type": "stream",
     "text": [
      "load\n",
      "103\n",
      "load\n",
      "202\n",
      "load\n",
      "548\n",
      "38851\n"
     ]
    }
   ],
   "source": [
    "\n",
    "comments_last = pickle.load(open( \"../../pickle/comments_all/comments_all_38200.pkl\", \"rb\" ))\n",
    "print('load')\n",
    "keys_to_remove =  df['id'][:38000]\n",
    "for key in keys_to_remove:\n",
    "    if key in comments_last.keys():\n",
    "        del comments_last[key]\n",
    "\n",
    "print(len(comments_last))\n",
    "comments_mix = {**comments_all, **comments_last}\n",
    "\n",
    "comments_last = pickle.load(open( \"../../pickle/comments_all/comments_all_38500.pkl\", \"rb\" ))\n",
    "print('load')\n",
    "print(len(comments_last))\n",
    "comments_mix = {**comments_mix, **comments_last}\n",
    "\n",
    "comments_last = pickle.load(open( \"../../pickle/comments_all/comments_all_38100.pkl\", \"rb\" ))\n",
    "print('load')\n",
    "print(len(comments_last))\n",
    "comments_mix = {**comments_mix, **comments_last}\n",
    "\n",
    "comments_last = pickle.load(open( \"../../pickle/comments_all/comments_38000_to_38800_10.pkl\", \"rb\" ))\n",
    "print('load')\n",
    "\n",
    "for key in comments_mix.keys():\n",
    "    if key in comments_last.keys():\n",
    "        del comments_last[key]\n",
    "print(len(comments_last))    \n",
    "comments_mix = {**comments_mix, **comments_last}\n",
    "    \n",
    "comments_mix.pop('post_id', None)\n",
    "print(len(comments_mix))    "
   ]
  },
  {
   "cell_type": "code",
   "execution_count": 3,
   "metadata": {},
   "outputs": [],
   "source": [
    "pickle.dump(comments_mix, open(\"../../pickle/comments_all/comments_all.pkl\", \"wb\"))"
   ]
  },
  {
   "cell_type": "code",
   "execution_count": null,
   "metadata": {},
   "outputs": [],
   "source": []
  }
 ],
 "metadata": {
  "kernelspec": {
   "display_name": "Python 3",
   "language": "python",
   "name": "python3"
  },
  "language_info": {
   "codemirror_mode": {
    "name": "ipython",
    "version": 3
   },
   "file_extension": ".py",
   "mimetype": "text/x-python",
   "name": "python",
   "nbconvert_exporter": "python",
   "pygments_lexer": "ipython3",
   "version": "3.9.1"
  }
 },
 "nbformat": 4,
 "nbformat_minor": 4
}
